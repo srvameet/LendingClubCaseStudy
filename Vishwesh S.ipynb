{
 "cells": [
  {
   "cell_type": "markdown",
   "id": "081124d2",
   "metadata": {},
   "source": [
    "# Loan Default Case Study"
   ]
  },
  {
   "cell_type": "markdown",
   "id": "5080251f",
   "metadata": {},
   "source": [
    "**Problem Statement**\n",
    "\n",
    "A consumer finance company specialises in lending various types of loans to urban customers. When the company receives a loan application, the company has to make a decision for loan approval based on the applicant’s profile.\n",
    "\n",
    "Two types of risks are associated with the bank’s decision:\n",
    "- If the applicant is likely to repay the loan, then not approving the loan results in a loss of business to the company\n",
    "- If the applicant is not likely to repay the loan, i.e. he/she is likely to default, then approving the loan may lead to a financial loss for the company\n",
    "\n",
    "Analysis has to be conducted summarising the risk assessment the bank could carry out to reduce the risk of loan default.\n",
    "\n",
    "\n",
    "\n"
   ]
  },
  {
   "cell_type": "markdown",
   "id": "1d705cff",
   "metadata": {},
   "source": [
    "   "
   ]
  },
  {
   "cell_type": "markdown",
   "id": "aea2c64e",
   "metadata": {},
   "source": [
    "\n",
    "## Fixing Rows and Columns by checking the raw file\n",
    "\n",
    "For Rows:\n",
    "- Check for summary rows: No action needed\n",
    "- Check for incorrect rows (Header rows, Footer rows): No action needed \n",
    "- Check forincorrect rows (Column number, indicators, Blank rows, Page No): No action needed\n",
    "\n"
   ]
  },
  {
   "cell_type": "markdown",
   "id": "01afb5f2",
   "metadata": {},
   "source": [
    "\n",
    "**Import libraries and check few rows**\n",
    "\n"
   ]
  },
  {
   "cell_type": "code",
   "execution_count": 270,
   "id": "fa5cbd8a",
   "metadata": {},
   "outputs": [],
   "source": [
    "#import the libraries\n",
    "import pandas as pd \n",
    "import numpy as np\n",
    "\n",
    "\n",
    "#import the plotting libraries\n",
    "\n",
    "import matplotlib.pyplot as plt\n",
    "%matplotlib inline"
   ]
  },
  {
   "cell_type": "code",
   "execution_count": 271,
   "id": "c39c88a0",
   "metadata": {},
   "outputs": [
    {
     "name": "stderr",
     "output_type": "stream",
     "text": [
      "/var/folders/6r/1xvkby6d0msg6nxmsqjs8zv40000gn/T/ipykernel_4466/1245689009.py:2: DtypeWarning: Columns (47) have mixed types. Specify dtype option on import or set low_memory=False.\n",
      "  df0 = pd.read_csv('loan.csv')\n"
     ]
    },
    {
     "data": {
      "text/html": [
       "<div>\n",
       "<style scoped>\n",
       "    .dataframe tbody tr th:only-of-type {\n",
       "        vertical-align: middle;\n",
       "    }\n",
       "\n",
       "    .dataframe tbody tr th {\n",
       "        vertical-align: top;\n",
       "    }\n",
       "\n",
       "    .dataframe thead th {\n",
       "        text-align: right;\n",
       "    }\n",
       "</style>\n",
       "<table border=\"1\" class=\"dataframe\">\n",
       "  <thead>\n",
       "    <tr style=\"text-align: right;\">\n",
       "      <th></th>\n",
       "      <th>id</th>\n",
       "      <th>member_id</th>\n",
       "      <th>loan_amnt</th>\n",
       "      <th>funded_amnt</th>\n",
       "      <th>funded_amnt_inv</th>\n",
       "      <th>term</th>\n",
       "      <th>int_rate</th>\n",
       "      <th>installment</th>\n",
       "      <th>grade</th>\n",
       "      <th>sub_grade</th>\n",
       "      <th>...</th>\n",
       "      <th>num_tl_90g_dpd_24m</th>\n",
       "      <th>num_tl_op_past_12m</th>\n",
       "      <th>pct_tl_nvr_dlq</th>\n",
       "      <th>percent_bc_gt_75</th>\n",
       "      <th>pub_rec_bankruptcies</th>\n",
       "      <th>tax_liens</th>\n",
       "      <th>tot_hi_cred_lim</th>\n",
       "      <th>total_bal_ex_mort</th>\n",
       "      <th>total_bc_limit</th>\n",
       "      <th>total_il_high_credit_limit</th>\n",
       "    </tr>\n",
       "  </thead>\n",
       "  <tbody>\n",
       "    <tr>\n",
       "      <th>0</th>\n",
       "      <td>1077501</td>\n",
       "      <td>1296599</td>\n",
       "      <td>5000</td>\n",
       "      <td>5000</td>\n",
       "      <td>4975.0</td>\n",
       "      <td>36 months</td>\n",
       "      <td>10.65%</td>\n",
       "      <td>162.87</td>\n",
       "      <td>B</td>\n",
       "      <td>B2</td>\n",
       "      <td>...</td>\n",
       "      <td>NaN</td>\n",
       "      <td>NaN</td>\n",
       "      <td>NaN</td>\n",
       "      <td>NaN</td>\n",
       "      <td>0.0</td>\n",
       "      <td>0.0</td>\n",
       "      <td>NaN</td>\n",
       "      <td>NaN</td>\n",
       "      <td>NaN</td>\n",
       "      <td>NaN</td>\n",
       "    </tr>\n",
       "    <tr>\n",
       "      <th>1</th>\n",
       "      <td>1077430</td>\n",
       "      <td>1314167</td>\n",
       "      <td>2500</td>\n",
       "      <td>2500</td>\n",
       "      <td>2500.0</td>\n",
       "      <td>60 months</td>\n",
       "      <td>15.27%</td>\n",
       "      <td>59.83</td>\n",
       "      <td>C</td>\n",
       "      <td>C4</td>\n",
       "      <td>...</td>\n",
       "      <td>NaN</td>\n",
       "      <td>NaN</td>\n",
       "      <td>NaN</td>\n",
       "      <td>NaN</td>\n",
       "      <td>0.0</td>\n",
       "      <td>0.0</td>\n",
       "      <td>NaN</td>\n",
       "      <td>NaN</td>\n",
       "      <td>NaN</td>\n",
       "      <td>NaN</td>\n",
       "    </tr>\n",
       "    <tr>\n",
       "      <th>2</th>\n",
       "      <td>1077175</td>\n",
       "      <td>1313524</td>\n",
       "      <td>2400</td>\n",
       "      <td>2400</td>\n",
       "      <td>2400.0</td>\n",
       "      <td>36 months</td>\n",
       "      <td>15.96%</td>\n",
       "      <td>84.33</td>\n",
       "      <td>C</td>\n",
       "      <td>C5</td>\n",
       "      <td>...</td>\n",
       "      <td>NaN</td>\n",
       "      <td>NaN</td>\n",
       "      <td>NaN</td>\n",
       "      <td>NaN</td>\n",
       "      <td>0.0</td>\n",
       "      <td>0.0</td>\n",
       "      <td>NaN</td>\n",
       "      <td>NaN</td>\n",
       "      <td>NaN</td>\n",
       "      <td>NaN</td>\n",
       "    </tr>\n",
       "    <tr>\n",
       "      <th>3</th>\n",
       "      <td>1076863</td>\n",
       "      <td>1277178</td>\n",
       "      <td>10000</td>\n",
       "      <td>10000</td>\n",
       "      <td>10000.0</td>\n",
       "      <td>36 months</td>\n",
       "      <td>13.49%</td>\n",
       "      <td>339.31</td>\n",
       "      <td>C</td>\n",
       "      <td>C1</td>\n",
       "      <td>...</td>\n",
       "      <td>NaN</td>\n",
       "      <td>NaN</td>\n",
       "      <td>NaN</td>\n",
       "      <td>NaN</td>\n",
       "      <td>0.0</td>\n",
       "      <td>0.0</td>\n",
       "      <td>NaN</td>\n",
       "      <td>NaN</td>\n",
       "      <td>NaN</td>\n",
       "      <td>NaN</td>\n",
       "    </tr>\n",
       "    <tr>\n",
       "      <th>4</th>\n",
       "      <td>1075358</td>\n",
       "      <td>1311748</td>\n",
       "      <td>3000</td>\n",
       "      <td>3000</td>\n",
       "      <td>3000.0</td>\n",
       "      <td>60 months</td>\n",
       "      <td>12.69%</td>\n",
       "      <td>67.79</td>\n",
       "      <td>B</td>\n",
       "      <td>B5</td>\n",
       "      <td>...</td>\n",
       "      <td>NaN</td>\n",
       "      <td>NaN</td>\n",
       "      <td>NaN</td>\n",
       "      <td>NaN</td>\n",
       "      <td>0.0</td>\n",
       "      <td>0.0</td>\n",
       "      <td>NaN</td>\n",
       "      <td>NaN</td>\n",
       "      <td>NaN</td>\n",
       "      <td>NaN</td>\n",
       "    </tr>\n",
       "  </tbody>\n",
       "</table>\n",
       "<p>5 rows × 111 columns</p>\n",
       "</div>"
      ],
      "text/plain": [
       "        id  member_id  loan_amnt  funded_amnt  funded_amnt_inv        term  \\\n",
       "0  1077501    1296599       5000         5000           4975.0   36 months   \n",
       "1  1077430    1314167       2500         2500           2500.0   60 months   \n",
       "2  1077175    1313524       2400         2400           2400.0   36 months   \n",
       "3  1076863    1277178      10000        10000          10000.0   36 months   \n",
       "4  1075358    1311748       3000         3000           3000.0   60 months   \n",
       "\n",
       "  int_rate  installment grade sub_grade  ... num_tl_90g_dpd_24m  \\\n",
       "0   10.65%       162.87     B        B2  ...                NaN   \n",
       "1   15.27%        59.83     C        C4  ...                NaN   \n",
       "2   15.96%        84.33     C        C5  ...                NaN   \n",
       "3   13.49%       339.31     C        C1  ...                NaN   \n",
       "4   12.69%        67.79     B        B5  ...                NaN   \n",
       "\n",
       "  num_tl_op_past_12m pct_tl_nvr_dlq  percent_bc_gt_75 pub_rec_bankruptcies  \\\n",
       "0                NaN            NaN               NaN                  0.0   \n",
       "1                NaN            NaN               NaN                  0.0   \n",
       "2                NaN            NaN               NaN                  0.0   \n",
       "3                NaN            NaN               NaN                  0.0   \n",
       "4                NaN            NaN               NaN                  0.0   \n",
       "\n",
       "  tax_liens tot_hi_cred_lim total_bal_ex_mort total_bc_limit  \\\n",
       "0       0.0             NaN               NaN            NaN   \n",
       "1       0.0             NaN               NaN            NaN   \n",
       "2       0.0             NaN               NaN            NaN   \n",
       "3       0.0             NaN               NaN            NaN   \n",
       "4       0.0             NaN               NaN            NaN   \n",
       "\n",
       "  total_il_high_credit_limit  \n",
       "0                        NaN  \n",
       "1                        NaN  \n",
       "2                        NaN  \n",
       "3                        NaN  \n",
       "4                        NaN  \n",
       "\n",
       "[5 rows x 111 columns]"
      ]
     },
     "execution_count": 271,
     "metadata": {},
     "output_type": "execute_result"
    }
   ],
   "source": [
    "#read the dataset and check the first five rows\n",
    "df0 = pd.read_csv('loan.csv')\n",
    "df0.head()"
   ]
  },
  {
   "cell_type": "markdown",
   "id": "ad4bdcb9",
   "metadata": {},
   "source": [
    "**Fixing Rows and Columns**\n",
    "\n",
    "For Columns:\n",
    "- Check for merge and split requirements: No action needed\n",
    "- Check for missing column names: No action needed \n",
    "- Are column names consistent: Yes "
   ]
  },
  {
   "cell_type": "code",
   "execution_count": 272,
   "id": "03590eec",
   "metadata": {},
   "outputs": [
    {
     "data": {
      "text/plain": [
       "(39717, 111)"
      ]
     },
     "execution_count": 272,
     "metadata": {},
     "output_type": "execute_result"
    }
   ],
   "source": [
    "# Find the shape \n",
    "\n",
    "df0.shape"
   ]
  },
  {
   "cell_type": "code",
   "execution_count": 273,
   "id": "3bd9174c",
   "metadata": {},
   "outputs": [
    {
     "name": "stdout",
     "output_type": "stream",
     "text": [
      "[    0     0     0     0     0     0     0     0     0     0  2459  1075\n",
      "     0     0     0     0     0     0     0 12940     0    11     0     0\n",
      "     0     0     0     0 25682 36931     0     0     0    50     0     0\n",
      "     0     0     0     0     0     0     0     0     0    71     0 38577\n",
      "     2    56 39717     0     0 39717 39717 39717     0 39717 39717 39717\n",
      " 39717 39717 39717 39717 39717 39717 39717 39717 39717 39717 39717 39717\n",
      " 39717 39717 39717 39717 39717 39717    56     0 39717 39717 39717 39717\n",
      " 39717 39717 39717 39717 39717 39717 39717 39717 39717 39717 39717 39717\n",
      " 39717 39717 39717 39717 39717 39717 39717 39717 39717   697    39 39717\n",
      " 39717 39717 39717]\n"
     ]
    }
   ],
   "source": [
    "# listing null value counts of each column\n",
    "\n",
    "df1=df0.isnull().sum()\n",
    "print(df1.values)\n"
   ]
  },
  {
   "cell_type": "markdown",
   "id": "62226961",
   "metadata": {},
   "source": [
    "**Many columns have lot of null values. There's one column with 2459 null values but that's about 6%. \n",
    "So let's delete columns with null values more than that**\n",
    "\n",
    "\n"
   ]
  },
  {
   "cell_type": "code",
   "execution_count": 274,
   "id": "23f4e020",
   "metadata": {},
   "outputs": [],
   "source": [
    "#Create columns list with lot of null values\n",
    "\n",
    "delete_col = list(df1[df1.values>=12940].index)\n",
    "#print(delete_col)\n",
    "\n"
   ]
  },
  {
   "cell_type": "code",
   "execution_count": 275,
   "id": "1e8fa607",
   "metadata": {},
   "outputs": [
    {
     "data": {
      "text/plain": [
       "(39717, 53)"
      ]
     },
     "execution_count": 275,
     "metadata": {},
     "output_type": "execute_result"
    }
   ],
   "source": [
    "#Drop columns with lot of null values\n",
    "\n",
    "#testdf = df0.drop(columns=delete_col, axis='columns')\n",
    "#testdf.shape\n",
    "\n",
    "df0.drop(columns=delete_col, axis='columns', inplace=True)\n",
    "df0.shape"
   ]
  },
  {
   "cell_type": "code",
   "execution_count": 276,
   "id": "563420a7",
   "metadata": {},
   "outputs": [
    {
     "data": {
      "text/plain": [
       "id                               0\n",
       "member_id                        0\n",
       "loan_amnt                        0\n",
       "funded_amnt                      0\n",
       "funded_amnt_inv                  0\n",
       "term                             0\n",
       "int_rate                         0\n",
       "installment                      0\n",
       "grade                            0\n",
       "sub_grade                        0\n",
       "emp_title                     2459\n",
       "emp_length                    1075\n",
       "home_ownership                   0\n",
       "annual_inc                       0\n",
       "verification_status              0\n",
       "issue_d                          0\n",
       "loan_status                      0\n",
       "pymnt_plan                       0\n",
       "url                              0\n",
       "purpose                          0\n",
       "title                           11\n",
       "zip_code                         0\n",
       "addr_state                       0\n",
       "dti                              0\n",
       "delinq_2yrs                      0\n",
       "earliest_cr_line                 0\n",
       "inq_last_6mths                   0\n",
       "open_acc                         0\n",
       "pub_rec                          0\n",
       "revol_bal                        0\n",
       "revol_util                      50\n",
       "total_acc                        0\n",
       "initial_list_status              0\n",
       "out_prncp                        0\n",
       "out_prncp_inv                    0\n",
       "total_pymnt                      0\n",
       "total_pymnt_inv                  0\n",
       "total_rec_prncp                  0\n",
       "total_rec_int                    0\n",
       "total_rec_late_fee               0\n",
       "recoveries                       0\n",
       "collection_recovery_fee          0\n",
       "last_pymnt_d                    71\n",
       "last_pymnt_amnt                  0\n",
       "last_credit_pull_d               2\n",
       "collections_12_mths_ex_med      56\n",
       "policy_code                      0\n",
       "application_type                 0\n",
       "acc_now_delinq                   0\n",
       "chargeoff_within_12_mths        56\n",
       "delinq_amnt                      0\n",
       "pub_rec_bankruptcies           697\n",
       "tax_liens                       39\n",
       "dtype: int64"
      ]
     },
     "execution_count": 276,
     "metadata": {},
     "output_type": "execute_result"
    }
   ],
   "source": [
    "# Checking the columns for null\n",
    "\n",
    "df0.isnull().sum()"
   ]
  },
  {
   "cell_type": "code",
   "execution_count": 277,
   "id": "c44a54b2",
   "metadata": {
    "scrolled": false
   },
   "outputs": [
    {
     "name": "stdout",
     "output_type": "stream",
     "text": [
      "<class 'pandas.core.frame.DataFrame'>\n",
      "RangeIndex: 39717 entries, 0 to 39716\n",
      "Data columns (total 53 columns):\n",
      " #   Column                      Non-Null Count  Dtype  \n",
      "---  ------                      --------------  -----  \n",
      " 0   id                          39717 non-null  int64  \n",
      " 1   member_id                   39717 non-null  int64  \n",
      " 2   loan_amnt                   39717 non-null  int64  \n",
      " 3   funded_amnt                 39717 non-null  int64  \n",
      " 4   funded_amnt_inv             39717 non-null  float64\n",
      " 5   term                        39717 non-null  object \n",
      " 6   int_rate                    39717 non-null  object \n",
      " 7   installment                 39717 non-null  float64\n",
      " 8   grade                       39717 non-null  object \n",
      " 9   sub_grade                   39717 non-null  object \n",
      " 10  emp_title                   37258 non-null  object \n",
      " 11  emp_length                  38642 non-null  object \n",
      " 12  home_ownership              39717 non-null  object \n",
      " 13  annual_inc                  39717 non-null  float64\n",
      " 14  verification_status         39717 non-null  object \n",
      " 15  issue_d                     39717 non-null  object \n",
      " 16  loan_status                 39717 non-null  object \n",
      " 17  pymnt_plan                  39717 non-null  object \n",
      " 18  url                         39717 non-null  object \n",
      " 19  purpose                     39717 non-null  object \n",
      " 20  title                       39706 non-null  object \n",
      " 21  zip_code                    39717 non-null  object \n",
      " 22  addr_state                  39717 non-null  object \n",
      " 23  dti                         39717 non-null  float64\n",
      " 24  delinq_2yrs                 39717 non-null  int64  \n",
      " 25  earliest_cr_line            39717 non-null  object \n",
      " 26  inq_last_6mths              39717 non-null  int64  \n",
      " 27  open_acc                    39717 non-null  int64  \n",
      " 28  pub_rec                     39717 non-null  int64  \n",
      " 29  revol_bal                   39717 non-null  int64  \n",
      " 30  revol_util                  39667 non-null  object \n",
      " 31  total_acc                   39717 non-null  int64  \n",
      " 32  initial_list_status         39717 non-null  object \n",
      " 33  out_prncp                   39717 non-null  float64\n",
      " 34  out_prncp_inv               39717 non-null  float64\n",
      " 35  total_pymnt                 39717 non-null  float64\n",
      " 36  total_pymnt_inv             39717 non-null  float64\n",
      " 37  total_rec_prncp             39717 non-null  float64\n",
      " 38  total_rec_int               39717 non-null  float64\n",
      " 39  total_rec_late_fee          39717 non-null  float64\n",
      " 40  recoveries                  39717 non-null  float64\n",
      " 41  collection_recovery_fee     39717 non-null  float64\n",
      " 42  last_pymnt_d                39646 non-null  object \n",
      " 43  last_pymnt_amnt             39717 non-null  float64\n",
      " 44  last_credit_pull_d          39715 non-null  object \n",
      " 45  collections_12_mths_ex_med  39661 non-null  float64\n",
      " 46  policy_code                 39717 non-null  int64  \n",
      " 47  application_type            39717 non-null  object \n",
      " 48  acc_now_delinq              39717 non-null  int64  \n",
      " 49  chargeoff_within_12_mths    39661 non-null  float64\n",
      " 50  delinq_amnt                 39717 non-null  int64  \n",
      " 51  pub_rec_bankruptcies        39020 non-null  float64\n",
      " 52  tax_liens                   39678 non-null  float64\n",
      "dtypes: float64(18), int64(13), object(22)\n",
      "memory usage: 16.1+ MB\n"
     ]
    }
   ],
   "source": [
    "#Check the datatypes of all the columns of the dataframe\n",
    "\n",
    "df0.info()\n"
   ]
  },
  {
   "cell_type": "markdown",
   "id": "edb2982f",
   "metadata": {},
   "source": [
    "\n",
    "\n",
    "## Verify Column values"
   ]
  },
  {
   "cell_type": "code",
   "execution_count": 282,
   "id": "1921b00b",
   "metadata": {},
   "outputs": [],
   "source": [
    "df0['term'].value_counts()\n",
    "df0['int_rate'].value_counts()\n",
    "df0['grade'].value_counts()\n",
    "\n",
    "df0['sub_grade'].value_counts()\n",
    "df0['emp_title'].value_counts()\n",
    "df0['emp_length'].value_counts()\n",
    "\n",
    "df0['home_ownership'].value_counts() # There are few entries that don't make sense. We delete such rows\n",
    "df0.drop(df0[df0['home_ownership'].isin(['OTHER','NONE'])].index, inplace=True)\n",
    "\n",
    "df0['verification_status'].value_counts()\n",
    "df0['issue_d'].value_counts()\n",
    "df0['loan_status'].value_counts() # The analysis will focus on paid and charged-off. Hence delete others\n",
    "df0.drop(df0[df0['loan_status'].isin(['Current'])].index, inplace=True)\n",
    "\n",
    "df0['pymnt_plan'].value_counts()  # This has single value. Hence drop this column\n",
    "df0.drop(['pymnt_plan'], axis=1, inplace=True)\n",
    "\n",
    "df0['purpose'].value_counts()\n",
    "df0['title'].value_counts()\n",
    "df0['dti'].value_counts()\n",
    "\n",
    "df0['earliest_cr_line'].value_counts()\n",
    "df0['revol_util'].value_counts()\n",
    "\n",
    "df0['initial_list_status'].value_counts() # This has single value. Hence drop this column\n",
    "df0.drop(['initial_list_status'], axis=1, inplace=True)\n",
    "\n",
    "df0['last_pymnt_d'].value_counts()\n",
    "df0['last_credit_pull_d'].value_counts()\n",
    "\n",
    "df0['application_type'].value_counts() # This has single value. Hence drop this column\n",
    "df0.drop(['application_type'], axis=1, inplace=True)"
   ]
  },
  {
   "cell_type": "code",
   "execution_count": 283,
   "id": "29c312c5",
   "metadata": {},
   "outputs": [
    {
     "data": {
      "text/plain": [
       "(38476, 50)"
      ]
     },
     "execution_count": 283,
     "metadata": {},
     "output_type": "execute_result"
    }
   ],
   "source": [
    "\n",
    "df0.shape\n"
   ]
  },
  {
   "cell_type": "markdown",
   "id": "b06a5a19",
   "metadata": {},
   "source": [
    "## Outlier analysis"
   ]
  },
  {
   "cell_type": "code",
   "execution_count": 284,
   "id": "e53be0a0",
   "metadata": {},
   "outputs": [
    {
     "data": {
      "image/png": "[encoded data removed]",
      "text/plain": [
       "<Figure size 640x480 with 1 Axes>"
      ]
     },
     "metadata": {},
     "output_type": "display_data"
    }
   ],
   "source": [
    "#Create a box plot for the installment column\n",
    "plt.boxplot(df0['installment'])\n",
    "plt.show()\n",
    "\n",
    "#df0['installment'].describe()\n"
   ]
  },
  {
   "cell_type": "markdown",
   "id": "66670bcc",
   "metadata": {},
   "source": [
    "**Looks like there are lot of outliers. So we delete rows where installment > 1000**"
   ]
  },
  {
   "cell_type": "code",
   "execution_count": 285,
   "id": "a60d03eb",
   "metadata": {},
   "outputs": [],
   "source": [
    "#df0[df0['installment']>1000]\n",
    "\n",
    "df0.drop(df0[df0['installment']>1000].index, inplace=True)"
   ]
  },
  {
   "cell_type": "code",
   "execution_count": 286,
   "id": "a81a0f27",
   "metadata": {},
   "outputs": [
    {
     "data": {
      "image/png": "[encoded data removed]",
      "text/plain": [
       "<Figure size 640x480 with 1 Axes>"
      ]
     },
     "metadata": {},
     "output_type": "display_data"
    }
   ],
   "source": [
    "#Create a box plot for the annual_inc column\n",
    "plt.boxplot(df0['annual_inc'])\n",
    "plt.show()\n",
    "\n"
   ]
  },
  {
   "cell_type": "code",
   "execution_count": 287,
   "id": "b786e0fa",
   "metadata": {},
   "outputs": [
    {
     "data": {
      "text/plain": [
       "count    3.824100e+04\n",
       "mean     6.831523e+04\n",
       "std      6.369995e+04\n",
       "min      4.000000e+03\n",
       "25%      4.000000e+04\n",
       "50%      5.800000e+04\n",
       "75%      8.160000e+04\n",
       "max      6.000000e+06\n",
       "Name: annual_inc, dtype: float64"
      ]
     },
     "execution_count": 287,
     "metadata": {},
     "output_type": "execute_result"
    }
   ],
   "source": [
    "df0['annual_inc'].describe()"
   ]
  },
  {
   "cell_type": "markdown",
   "id": "74a174ba",
   "metadata": {},
   "source": [
    "**Looks like there are lot of outliers. So we delete rows where annual_inc > 100000**"
   ]
  },
  {
   "cell_type": "code",
   "execution_count": 288,
   "id": "e278542e",
   "metadata": {},
   "outputs": [],
   "source": [
    "\n",
    "df0.drop(df0[df0['annual_inc']>100000].index, inplace=True)"
   ]
  },
  {
   "cell_type": "code",
   "execution_count": 289,
   "id": "1401a5bc",
   "metadata": {},
   "outputs": [
    {
     "data": {
      "text/plain": [
       "count    32912.000000\n",
       "mean         8.979369\n",
       "std          4.284882\n",
       "min          2.000000\n",
       "25%          6.000000\n",
       "50%          8.000000\n",
       "75%         11.000000\n",
       "max         42.000000\n",
       "Name: open_acc, dtype: float64"
      ]
     },
     "execution_count": 289,
     "metadata": {},
     "output_type": "execute_result"
    }
   ],
   "source": [
    "#No action needed for dti as that is a ratio\n",
    "#df0['delinq_2yrs'].describe()\n",
    "#df0['inq_last_6mths'].describe()\n",
    "df0['open_acc'].describe()"
   ]
  },
  {
   "cell_type": "code",
   "execution_count": 290,
   "id": "6f08dd24",
   "metadata": {
    "scrolled": true
   },
   "outputs": [
    {
     "data": {
      "image/png": "[encoded data removed]",
      "text/plain": [
       "<Figure size 640x480 with 1 Axes>"
      ]
     },
     "metadata": {},
     "output_type": "display_data"
    }
   ],
   "source": [
    "#Create a box plot for the open_acc column\n",
    "plt.boxplot(df0['open_acc'])\n",
    "plt.show()"
   ]
  },
  {
   "cell_type": "markdown",
   "id": "c14e2ad3",
   "metadata": {},
   "source": [
    "**We delete outliers- where open_acc > 20**"
   ]
  },
  {
   "cell_type": "code",
   "execution_count": 291,
   "id": "2d149c6f",
   "metadata": {},
   "outputs": [],
   "source": [
    "df0.drop(df0[df0['open_acc']>20].index, inplace=True)"
   ]
  },
  {
   "cell_type": "code",
   "execution_count": 292,
   "id": "9dc4aec7",
   "metadata": {},
   "outputs": [
    {
     "data": {
      "text/plain": [
       "count    32369.000000\n",
       "mean         0.058142\n",
       "std          0.242190\n",
       "min          0.000000\n",
       "25%          0.000000\n",
       "50%          0.000000\n",
       "75%          0.000000\n",
       "max          4.000000\n",
       "Name: pub_rec, dtype: float64"
      ]
     },
     "execution_count": 292,
     "metadata": {},
     "output_type": "execute_result"
    }
   ],
   "source": [
    "\n",
    "df0['pub_rec'].describe()\n"
   ]
  },
  {
   "cell_type": "code",
   "execution_count": 293,
   "id": "f3abf194",
   "metadata": {},
   "outputs": [
    {
     "data": {
      "text/plain": [
       "count     32369.000000\n",
       "mean      10957.034848\n",
       "std       11602.969580\n",
       "min           0.000000\n",
       "25%        3317.000000\n",
       "50%        7871.000000\n",
       "75%       14750.000000\n",
       "max      149000.000000\n",
       "Name: revol_bal, dtype: float64"
      ]
     },
     "execution_count": 293,
     "metadata": {},
     "output_type": "execute_result"
    }
   ],
   "source": [
    "df0['revol_bal'].describe()\n"
   ]
  },
  {
   "cell_type": "code",
   "execution_count": 294,
   "id": "4c06e79e",
   "metadata": {},
   "outputs": [
    {
     "data": {
      "image/png": "[encoded data removed]",
      "text/plain": [
       "<Figure size 640x480 with 1 Axes>"
      ]
     },
     "metadata": {},
     "output_type": "display_data"
    }
   ],
   "source": [
    "#Create a box plot for the revol_bal column\n",
    "plt.boxplot(df0['revol_bal'])\n",
    "plt.show()\n"
   ]
  },
  {
   "cell_type": "markdown",
   "id": "ad79521c",
   "metadata": {},
   "source": [
    "**We delete outliers- where revol_bal > 40000**"
   ]
  },
  {
   "cell_type": "code",
   "execution_count": 295,
   "id": "76a08ebd",
   "metadata": {},
   "outputs": [],
   "source": [
    "df0.drop(df0[df0['revol_bal']>40000].index, inplace=True)"
   ]
  },
  {
   "cell_type": "code",
   "execution_count": 296,
   "id": "9de6dba3",
   "metadata": {},
   "outputs": [
    {
     "data": {
      "text/plain": [
       "count    31508.000000\n",
       "mean        20.254856\n",
       "std         10.418289\n",
       "min          2.000000\n",
       "25%         12.000000\n",
       "50%         19.000000\n",
       "75%         26.000000\n",
       "max         87.000000\n",
       "Name: total_acc, dtype: float64"
      ]
     },
     "execution_count": 296,
     "metadata": {},
     "output_type": "execute_result"
    }
   ],
   "source": [
    "df0['total_acc'].describe()"
   ]
  },
  {
   "cell_type": "code",
   "execution_count": 297,
   "id": "c20d4482",
   "metadata": {},
   "outputs": [
    {
     "data": {
      "image/png": "[encoded data removed]",
      "text/plain": [
       "<Figure size 640x480 with 1 Axes>"
      ]
     },
     "metadata": {},
     "output_type": "display_data"
    }
   ],
   "source": [
    "#Create a box plot for the total_acc column\n",
    "plt.boxplot(df0['total_acc'])\n",
    "plt.show()"
   ]
  },
  {
   "cell_type": "markdown",
   "id": "b2992012",
   "metadata": {},
   "source": [
    "**We delete outliers- where total_acc > 50**"
   ]
  },
  {
   "cell_type": "code",
   "execution_count": 298,
   "id": "4e66dbaa",
   "metadata": {},
   "outputs": [],
   "source": [
    "df0.drop(df0[df0['total_acc']>50].index, inplace=True)"
   ]
  },
  {
   "cell_type": "markdown",
   "id": "2f7b6a9c",
   "metadata": {},
   "source": [
    "**Similar exercise shouldn't be done for 'outstanding prinicipal', 'payment received', 'interest/fees received' and 'recoveries'**"
   ]
  },
  {
   "cell_type": "code",
   "execution_count": 299,
   "id": "d62365de",
   "metadata": {},
   "outputs": [
    {
     "data": {
      "text/plain": [
       "count    31192.00000\n",
       "mean      2389.31435\n",
       "std       3924.73552\n",
       "min          0.00000\n",
       "25%        200.98500\n",
       "50%        496.14000\n",
       "75%       2994.00250\n",
       "max      36115.20000\n",
       "Name: last_pymnt_amnt, dtype: float64"
      ]
     },
     "execution_count": 299,
     "metadata": {},
     "output_type": "execute_result"
    }
   ],
   "source": [
    "df0['last_pymnt_amnt'].describe()"
   ]
  },
  {
   "cell_type": "code",
   "execution_count": 300,
   "id": "f6c960a1",
   "metadata": {
    "scrolled": true
   },
   "outputs": [
    {
     "data": {
      "image/png": "[encoded data removed]",
      "text/plain": [
       "<Figure size 640x480 with 1 Axes>"
      ]
     },
     "metadata": {},
     "output_type": "display_data"
    }
   ],
   "source": [
    "#Create a box plot for the last_pymnt_amnt column\n",
    "plt.boxplot(df0['last_pymnt_amnt'])\n",
    "plt.show()"
   ]
  },
  {
   "cell_type": "markdown",
   "id": "dae5f2a7",
   "metadata": {},
   "source": [
    "**Delete outliers - last_pymnt_amnt>10000**"
   ]
  },
  {
   "cell_type": "code",
   "execution_count": 301,
   "id": "2140a5a0",
   "metadata": {},
   "outputs": [],
   "source": [
    "df0.drop(df0[df0['last_pymnt_amnt']>10000].index, inplace=True)"
   ]
  },
  {
   "cell_type": "code",
   "execution_count": 302,
   "id": "d0616f2a",
   "metadata": {},
   "outputs": [
    {
     "data": {
      "text/plain": [
       "count    29338.0\n",
       "mean         0.0\n",
       "std          0.0\n",
       "min          0.0\n",
       "25%          0.0\n",
       "50%          0.0\n",
       "75%          0.0\n",
       "max          0.0\n",
       "Name: collections_12_mths_ex_med, dtype: float64"
      ]
     },
     "execution_count": 302,
     "metadata": {},
     "output_type": "execute_result"
    }
   ],
   "source": [
    "df0['collections_12_mths_ex_med'].describe() \n",
    "#All the values are 0. Hence drop the column"
   ]
  },
  {
   "cell_type": "code",
   "execution_count": 303,
   "id": "b5d5d7a4",
   "metadata": {},
   "outputs": [],
   "source": [
    "df0.drop(['collections_12_mths_ex_med'], axis=1, inplace=True)"
   ]
  },
  {
   "cell_type": "code",
   "execution_count": 304,
   "id": "7dc90ffa",
   "metadata": {},
   "outputs": [
    {
     "data": {
      "text/plain": [
       "count    29373.0\n",
       "mean         1.0\n",
       "std          0.0\n",
       "min          1.0\n",
       "25%          1.0\n",
       "50%          1.0\n",
       "75%          1.0\n",
       "max          1.0\n",
       "Name: policy_code, dtype: float64"
      ]
     },
     "execution_count": 304,
     "metadata": {},
     "output_type": "execute_result"
    }
   ],
   "source": [
    "df0['policy_code'].describe() \n",
    "#All the values are 1. Hence drop the column\n",
    "\n"
   ]
  },
  {
   "cell_type": "code",
   "execution_count": 305,
   "id": "1a75e50d",
   "metadata": {},
   "outputs": [],
   "source": [
    "df0.drop(['policy_code'], axis=1, inplace=True)"
   ]
  },
  {
   "cell_type": "code",
   "execution_count": 306,
   "id": "b4d47bd9",
   "metadata": {},
   "outputs": [
    {
     "data": {
      "text/plain": [
       "count    29373.0\n",
       "mean         0.0\n",
       "std          0.0\n",
       "min          0.0\n",
       "25%          0.0\n",
       "50%          0.0\n",
       "75%          0.0\n",
       "max          0.0\n",
       "Name: acc_now_delinq, dtype: float64"
      ]
     },
     "execution_count": 306,
     "metadata": {},
     "output_type": "execute_result"
    }
   ],
   "source": [
    "df0['acc_now_delinq'].describe() \n",
    "#All the values are 0. Hence drop the column\n"
   ]
  },
  {
   "cell_type": "code",
   "execution_count": 307,
   "id": "997877ed",
   "metadata": {},
   "outputs": [],
   "source": [
    "df0.drop(['acc_now_delinq'], axis=1, inplace=True)"
   ]
  },
  {
   "cell_type": "code",
   "execution_count": 308,
   "id": "bb6d1737",
   "metadata": {},
   "outputs": [
    {
     "data": {
      "text/plain": [
       "count    29338.0\n",
       "mean         0.0\n",
       "std          0.0\n",
       "min          0.0\n",
       "25%          0.0\n",
       "50%          0.0\n",
       "75%          0.0\n",
       "max          0.0\n",
       "Name: chargeoff_within_12_mths, dtype: float64"
      ]
     },
     "execution_count": 308,
     "metadata": {},
     "output_type": "execute_result"
    }
   ],
   "source": [
    "df0['chargeoff_within_12_mths'].describe() \n",
    "#All the values are 0. Hence drop the column\n"
   ]
  },
  {
   "cell_type": "code",
   "execution_count": 309,
   "id": "c1b6c1fa",
   "metadata": {},
   "outputs": [],
   "source": [
    "df0.drop(['chargeoff_within_12_mths'], axis=1, inplace=True)"
   ]
  },
  {
   "cell_type": "code",
   "execution_count": 310,
   "id": "26a574f4",
   "metadata": {},
   "outputs": [
    {
     "data": {
      "text/plain": [
       "count    29373.0\n",
       "mean         0.0\n",
       "std          0.0\n",
       "min          0.0\n",
       "25%          0.0\n",
       "50%          0.0\n",
       "75%          0.0\n",
       "max          0.0\n",
       "Name: delinq_amnt, dtype: float64"
      ]
     },
     "execution_count": 310,
     "metadata": {},
     "output_type": "execute_result"
    }
   ],
   "source": [
    "df0['delinq_amnt'].describe() \n",
    "#All the values are 0. Hence drop the column\n"
   ]
  },
  {
   "cell_type": "code",
   "execution_count": 311,
   "id": "5e62dd18",
   "metadata": {},
   "outputs": [],
   "source": [
    "df0.drop(['delinq_amnt'], axis=1, inplace=True)"
   ]
  },
  {
   "cell_type": "code",
   "execution_count": 312,
   "id": "32ec76e5",
   "metadata": {},
   "outputs": [
    {
     "data": {
      "text/plain": [
       "count    29352.0\n",
       "mean         0.0\n",
       "std          0.0\n",
       "min          0.0\n",
       "25%          0.0\n",
       "50%          0.0\n",
       "75%          0.0\n",
       "max          0.0\n",
       "Name: tax_liens, dtype: float64"
      ]
     },
     "execution_count": 312,
     "metadata": {},
     "output_type": "execute_result"
    }
   ],
   "source": [
    "#df0['pub_rec_bankruptcies'].describe()\n",
    "\n",
    "df0['tax_liens'].describe() \n",
    "#All the values are 0. Hence drop the column\n"
   ]
  },
  {
   "cell_type": "code",
   "execution_count": 313,
   "id": "d5b30991",
   "metadata": {},
   "outputs": [],
   "source": [
    "df0.drop(['tax_liens'], axis=1, inplace=True)"
   ]
  },
  {
   "cell_type": "code",
   "execution_count": 314,
   "id": "9e8ebafb",
   "metadata": {},
   "outputs": [
    {
     "name": "stdout",
     "output_type": "stream",
     "text": [
      "<class 'pandas.core.frame.DataFrame'>\n",
      "Int64Index: 29373 entries, 0 to 39716\n",
      "Data columns (total 44 columns):\n",
      " #   Column                   Non-Null Count  Dtype  \n",
      "---  ------                   --------------  -----  \n",
      " 0   id                       29373 non-null  int64  \n",
      " 1   member_id                29373 non-null  int64  \n",
      " 2   loan_amnt                29373 non-null  int64  \n",
      " 3   funded_amnt              29373 non-null  int64  \n",
      " 4   funded_amnt_inv          29373 non-null  float64\n",
      " 5   term                     29373 non-null  object \n",
      " 6   int_rate                 29373 non-null  object \n",
      " 7   installment              29373 non-null  float64\n",
      " 8   grade                    29373 non-null  object \n",
      " 9   sub_grade                29373 non-null  object \n",
      " 10  emp_title                27536 non-null  object \n",
      " 11  emp_length               28489 non-null  object \n",
      " 12  home_ownership           29373 non-null  object \n",
      " 13  annual_inc               29373 non-null  float64\n",
      " 14  verification_status      29373 non-null  object \n",
      " 15  issue_d                  29373 non-null  object \n",
      " 16  loan_status              29373 non-null  object \n",
      " 17  url                      29373 non-null  object \n",
      " 18  purpose                  29373 non-null  object \n",
      " 19  title                    29362 non-null  object \n",
      " 20  zip_code                 29373 non-null  object \n",
      " 21  addr_state               29373 non-null  object \n",
      " 22  dti                      29373 non-null  float64\n",
      " 23  delinq_2yrs              29373 non-null  int64  \n",
      " 24  earliest_cr_line         29373 non-null  object \n",
      " 25  inq_last_6mths           29373 non-null  int64  \n",
      " 26  open_acc                 29373 non-null  int64  \n",
      " 27  pub_rec                  29373 non-null  int64  \n",
      " 28  revol_bal                29373 non-null  int64  \n",
      " 29  revol_util               29328 non-null  object \n",
      " 30  total_acc                29373 non-null  int64  \n",
      " 31  out_prncp                29373 non-null  float64\n",
      " 32  out_prncp_inv            29373 non-null  float64\n",
      " 33  total_pymnt              29373 non-null  float64\n",
      " 34  total_pymnt_inv          29373 non-null  float64\n",
      " 35  total_rec_prncp          29373 non-null  float64\n",
      " 36  total_rec_int            29373 non-null  float64\n",
      " 37  total_rec_late_fee       29373 non-null  float64\n",
      " 38  recoveries               29373 non-null  float64\n",
      " 39  collection_recovery_fee  29373 non-null  float64\n",
      " 40  last_pymnt_d             29303 non-null  object \n",
      " 41  last_pymnt_amnt          29373 non-null  float64\n",
      " 42  last_credit_pull_d       29372 non-null  object \n",
      " 43  pub_rec_bankruptcies     28830 non-null  float64\n",
      "dtypes: float64(15), int64(10), object(19)\n",
      "memory usage: 10.1+ MB\n"
     ]
    }
   ],
   "source": [
    "df0.info()"
   ]
  },
  {
   "cell_type": "code",
   "execution_count": 315,
   "id": "733959b6",
   "metadata": {},
   "outputs": [
    {
     "data": {
      "text/plain": [
       "(29373, 44)"
      ]
     },
     "execution_count": 315,
     "metadata": {},
     "output_type": "execute_result"
    }
   ],
   "source": [
    "\n",
    "df0.shape"
   ]
  },
  {
   "cell_type": "markdown",
   "id": "b26ebef1",
   "metadata": {},
   "source": [
    "## PREP - ANALYSIS of loan_status\n",
    "\n",
    "Categorical\n",
    "\n",
    "- addr_state             \n",
    "- dti  - make bins                  \n",
    "- emp_length             \n",
    "- grade, sub_grade        \n",
    "- home_ownership          \n",
    "- open_acc, total_acc - check correlation  \n",
    "- pub_rec, pub_rec_bankruptcies - check correlation  \n",
    "- delinq_2yrs             \n",
    "- purpose                 \n",
    "- verification_status     \n",
    "\n",
    "\n",
    "Contiguous\n",
    "\n",
    "- annual_inc - make bins     \n",
    "- loan_amnt - make bins       \n",
    "\n"
   ]
  },
  {
   "cell_type": "markdown",
   "id": "b9ecdfa9",
   "metadata": {},
   "source": [
    "PREP - DERIVED METRICS\n",
    "\n",
    "1. loan_status_count (Based on loan_status) := 1 if charged-off, 0 otherwise\n",
    "2. annual_inc_bin = 0 to 25000, 25001 to 50000, 50001 to 75000 and > 75000 \n",
    "3. loan_amnt = 0 to 5000, 5001 to 8000, 8001 to 12000, 12001 to 23000 and >23000"
   ]
  },
  {
   "cell_type": "code",
   "execution_count": 316,
   "id": "5d4620e2",
   "metadata": {},
   "outputs": [
    {
     "data": {
      "text/plain": [
       "Fully Paid     24645\n",
       "Charged Off     4728\n",
       "Name: loan_status, dtype: int64"
      ]
     },
     "execution_count": 316,
     "metadata": {},
     "output_type": "execute_result"
    }
   ],
   "source": [
    "df0['loan_status'].value_counts()"
   ]
  },
  {
   "cell_type": "code",
   "execution_count": 317,
   "id": "bbd526e9",
   "metadata": {},
   "outputs": [],
   "source": [
    "#create new column from loan_status\n",
    "df0['loan_status_count'] = df0['loan_status'].apply(lambda x: 1 if x=='Charged Off' else 0)"
   ]
  },
  {
   "cell_type": "code",
   "execution_count": 318,
   "id": "8d30e41a",
   "metadata": {
    "scrolled": false
   },
   "outputs": [
    {
     "data": {
      "text/plain": [
       "0    24645\n",
       "1     4728\n",
       "Name: loan_status_count, dtype: int64"
      ]
     },
     "execution_count": 318,
     "metadata": {},
     "output_type": "execute_result"
    }
   ],
   "source": [
    "df0['loan_status_count'].value_counts()"
   ]
  },
  {
   "cell_type": "code",
   "execution_count": 319,
   "id": "18cae21d",
   "metadata": {},
   "outputs": [
    {
     "data": {
      "image/png": "[encoded data removed]",
      "text/plain": [
       "<Figure size 640x480 with 1 Axes>"
      ]
     },
     "metadata": {},
     "output_type": "display_data"
    }
   ],
   "source": [
    "#Create a boxplot of the dti column\n",
    "plt.boxplot(df0['dti'])\n",
    "plt.show()"
   ]
  },
  {
   "cell_type": "code",
   "execution_count": 320,
   "id": "7de4c89d",
   "metadata": {},
   "outputs": [
    {
     "data": {
      "text/plain": [
       "count    29373.000000\n",
       "mean        13.375337\n",
       "std          6.685597\n",
       "min          0.000000\n",
       "25%          8.220000\n",
       "50%         13.510000\n",
       "75%         18.680000\n",
       "max         29.990000\n",
       "Name: dti, dtype: float64"
      ]
     },
     "execution_count": 320,
     "metadata": {},
     "output_type": "execute_result"
    }
   ],
   "source": [
    "df0['dti'].describe()"
   ]
  },
  {
   "cell_type": "code",
   "execution_count": 321,
   "id": "cd597453",
   "metadata": {},
   "outputs": [],
   "source": [
    "#Create dti bin\n",
    "def dti_bin (row):\n",
    "   if row['dti'] >= 0 and row['dti'] <= 8.22:\n",
    "      return '0 to 8.22'\n",
    "   if row['dti'] > 8.22 and row['dti'] <= 13.51:\n",
    "      return '8.23 to 13.51'\n",
    "   if row['dti'] >= 13.51 and row['dti'] <= 18.68:\n",
    "      return '13.52 to 18.68'\n",
    "   return '>18.68'\n",
    "\n",
    "df0['dti_bin'] = df0.apply (lambda row: dti_bin(row), axis=1)"
   ]
  },
  {
   "cell_type": "code",
   "execution_count": 322,
   "id": "e07b0881",
   "metadata": {
    "scrolled": true
   },
   "outputs": [
    {
     "data": {
      "text/plain": [
       "count     29373.000000\n",
       "mean      52890.989938\n",
       "std       20842.014410\n",
       "min        4000.000000\n",
       "25%       36996.000000\n",
       "50%       50004.000000\n",
       "75%       67450.000000\n",
       "max      100000.000000\n",
       "Name: annual_inc, dtype: float64"
      ]
     },
     "execution_count": 322,
     "metadata": {},
     "output_type": "execute_result"
    }
   ],
   "source": [
    "df0['annual_inc'].describe()"
   ]
  },
  {
   "cell_type": "code",
   "execution_count": 323,
   "id": "4124f49d",
   "metadata": {},
   "outputs": [],
   "source": [
    "#Create Annual Income bin\n",
    "def annual_inc_bin (row):\n",
    "   if row['annual_inc'] >= 0 and row['annual_inc'] <= 25000:\n",
    "      return '0 to 25000'\n",
    "   if row['annual_inc'] >= 25001 and row['annual_inc'] <= 50000:\n",
    "      return '25001 to 50000'\n",
    "   if row['annual_inc'] >= 50001 and row['annual_inc'] <= 75000:\n",
    "      return '50001 to 75000'\n",
    "   return '>75000'\n",
    "\n",
    "df0['annual_inc_bin'] = df0.apply (lambda row: annual_inc_bin(row), axis=1)"
   ]
  },
  {
   "cell_type": "code",
   "execution_count": 324,
   "id": "4a602dd1",
   "metadata": {
    "scrolled": true
   },
   "outputs": [
    {
     "data": {
      "text/plain": [
       "25001 to 50000    12155\n",
       "50001 to 75000    10089\n",
       ">75000             4603\n",
       "0 to 25000         2526\n",
       "Name: annual_inc_bin, dtype: int64"
      ]
     },
     "execution_count": 324,
     "metadata": {},
     "output_type": "execute_result"
    }
   ],
   "source": [
    "df0['annual_inc_bin'].value_counts()"
   ]
  },
  {
   "cell_type": "code",
   "execution_count": 325,
   "id": "e37a4f13",
   "metadata": {
    "scrolled": true
   },
   "outputs": [
    {
     "data": {
      "text/plain": [
       "count    29373.000000\n",
       "mean      9348.273925\n",
       "std       5972.397604\n",
       "min        500.000000\n",
       "25%       5000.000000\n",
       "50%       8000.000000\n",
       "75%      12000.000000\n",
       "max      35000.000000\n",
       "Name: loan_amnt, dtype: float64"
      ]
     },
     "execution_count": 325,
     "metadata": {},
     "output_type": "execute_result"
    }
   ],
   "source": [
    "#Create a boxplot of the annual_inc column\n",
    "df0['loan_amnt'].describe()"
   ]
  },
  {
   "cell_type": "code",
   "execution_count": 326,
   "id": "494422cf",
   "metadata": {},
   "outputs": [
    {
     "data": {
      "image/png": "[encoded data removed]",
      "text/plain": [
       "<Figure size 640x480 with 1 Axes>"
      ]
     },
     "metadata": {},
     "output_type": "display_data"
    }
   ],
   "source": [
    "#Create a boxplot of the annual_inc column\n",
    "plt.boxplot(df0['loan_amnt'])\n",
    "plt.show()"
   ]
  },
  {
   "cell_type": "code",
   "execution_count": 327,
   "id": "208f28b5",
   "metadata": {},
   "outputs": [],
   "source": [
    "#Create Loan Amount bin\n",
    "def loan_amnt_bin (row):\n",
    "   if row['loan_amnt'] >= 0 and row['loan_amnt'] <= 5000:\n",
    "      return '0 to 5000'\n",
    "   if row['loan_amnt'] >= 5001 and row['loan_amnt'] <= 8000:\n",
    "      return '5001 to 8000'\n",
    "   if row['loan_amnt'] >= 8001 and row['loan_amnt'] <= 12000:\n",
    "      return '8001 to 12000'\n",
    "   if row['loan_amnt'] >= 12001 and row['loan_amnt'] <= 23000:\n",
    "      return '12001 to 23000'\n",
    "   return '>23000'\n",
    "\n",
    "df0['loan_amnt_bin'] = df0.apply (lambda row: loan_amnt_bin(row), axis=1)"
   ]
  },
  {
   "cell_type": "code",
   "execution_count": 328,
   "id": "bb9d1690",
   "metadata": {},
   "outputs": [
    {
     "data": {
      "text/plain": [
       "0 to 5000         8580\n",
       "8001 to 12000     7029\n",
       "5001 to 8000      6705\n",
       "12001 to 23000    5932\n",
       ">23000            1127\n",
       "Name: loan_amnt_bin, dtype: int64"
      ]
     },
     "execution_count": 328,
     "metadata": {},
     "output_type": "execute_result"
    }
   ],
   "source": [
    "df0['loan_amnt_bin'].value_counts()"
   ]
  },
  {
   "cell_type": "markdown",
   "id": "824ab0f4",
   "metadata": {},
   "source": [
    "## Analysis"
   ]
  },
  {
   "cell_type": "code",
   "execution_count": 329,
   "id": "ee952159",
   "metadata": {},
   "outputs": [
    {
     "data": {
      "text/plain": [
       "(4728, 48)"
      ]
     },
     "execution_count": 329,
     "metadata": {},
     "output_type": "execute_result"
    }
   ],
   "source": [
    "#Create dataframe of charged-off loan status\n",
    "df0_cf = df0[df0['loan_status_count']==1]\n",
    "df0_cf.shape"
   ]
  },
  {
   "cell_type": "code",
   "execution_count": 330,
   "id": "33779345",
   "metadata": {
    "scrolled": true
   },
   "outputs": [
    {
     "data": {
      "image/png": "[encoded data removed]",
      "text/plain": [
       "<Figure size 640x480 with 1 Axes>"
      ]
     },
     "metadata": {},
     "output_type": "display_data"
    }
   ],
   "source": [
    "#Plot a bar chart for Grade\n",
    "df0_cf['grade'].value_counts().plot.bar()\n",
    "plt.show()\n",
    "\n"
   ]
  },
  {
   "cell_type": "markdown",
   "id": "38e59c67",
   "metadata": {},
   "source": [
    "**Important - Grades - A B C D and E seem to contribute significantly to bad loans. Particularly - B C and D**"
   ]
  },
  {
   "cell_type": "code",
   "execution_count": 331,
   "id": "47ed4826",
   "metadata": {},
   "outputs": [
    {
     "data": {
      "image/png": "[encoded data removed]",
      "text/plain": [
       "<Figure size 640x480 with 1 Axes>"
      ]
     },
     "metadata": {},
     "output_type": "display_data"
    }
   ],
   "source": [
    "#Plot a bar chart\n",
    "df0_cf['sub_grade'][df0_cf['grade'].isin(['A','B','C','D','E'])].value_counts().plot.bar()\n",
    "plt.show()\n",
    "\n",
    "#Not very insightful"
   ]
  },
  {
   "cell_type": "code",
   "execution_count": 332,
   "id": "50d0939b",
   "metadata": {},
   "outputs": [
    {
     "data": {
      "image/png": "[encoded data removed]",
      "text/plain": [
       "<Figure size 640x480 with 1 Axes>"
      ]
     },
     "metadata": {},
     "output_type": "display_data"
    }
   ],
   "source": [
    "#Plot a bar chart for verification_status\n",
    "df0_cf['verification_status'].value_counts().plot.bar()\n",
    "plt.show()\n",
    "\n",
    "#Not very insightful"
   ]
  },
  {
   "cell_type": "code",
   "execution_count": 333,
   "id": "1b362c22",
   "metadata": {},
   "outputs": [
    {
     "data": {
      "image/png": "[encoded data removed]",
      "text/plain": [
       "<Figure size 640x480 with 1 Axes>"
      ]
     },
     "metadata": {},
     "output_type": "display_data"
    }
   ],
   "source": [
    "#Plot a bar chart for verification_status\n",
    "df0_cf['home_ownership'].value_counts().plot.bar()\n",
    "plt.show()\n",
    "\n"
   ]
  },
  {
   "cell_type": "markdown",
   "id": "bfa17b1f",
   "metadata": {},
   "source": [
    "**People who own home don't tend to default as mush as others do. But others should be analyzed**"
   ]
  },
  {
   "cell_type": "code",
   "execution_count": 334,
   "id": "9858f261",
   "metadata": {},
   "outputs": [
    {
     "data": {
      "text/plain": [
       "debt_consolidation    2353\n",
       "other                  528\n",
       "credit_card            442\n",
       "small_business         378\n",
       "home_improvement       271\n",
       "major_purchase         202\n",
       "car                    139\n",
       "medical                 94\n",
       "moving                  83\n",
       "wedding                 81\n",
       "vacation                49\n",
       "educational             46\n",
       "house                   45\n",
       "renewable_energy        17\n",
       "Name: purpose, dtype: int64"
      ]
     },
     "execution_count": 334,
     "metadata": {},
     "output_type": "execute_result"
    }
   ],
   "source": [
    "#Plot a bar chart for purpose\n",
    "df0_cf['purpose'].value_counts()\n",
    "\n"
   ]
  },
  {
   "cell_type": "markdown",
   "id": "0588bddc",
   "metadata": {},
   "source": [
    "**debt_consolidation, other, credit_card, small_business, home_improvement, major_purchase and car are focus areas. Particularly - debt_consolidation, other, credit_card and small_business**"
   ]
  },
  {
   "cell_type": "code",
   "execution_count": 335,
   "id": "c73a9b54",
   "metadata": {},
   "outputs": [
    {
     "data": {
      "text/plain": [
       "0    4161\n",
       "1     420\n",
       "2      98\n",
       "3      32\n",
       "4      12\n",
       "5       2\n",
       "7       1\n",
       "6       1\n",
       "8       1\n",
       "Name: delinq_2yrs, dtype: int64"
      ]
     },
     "execution_count": 335,
     "metadata": {},
     "output_type": "execute_result"
    }
   ],
   "source": [
    "df0_cf['delinq_2yrs'].value_counts()\n"
   ]
  },
  {
   "cell_type": "markdown",
   "id": "e2854cbf",
   "metadata": {},
   "source": [
    "**Important - delinq_2yrs = 1**"
   ]
  },
  {
   "cell_type": "code",
   "execution_count": 336,
   "id": "89fabb55",
   "metadata": {},
   "outputs": [
    {
     "data": {
      "text/plain": [
       "10+ years    1044\n",
       "< 1 year      553\n",
       "2 years       493\n",
       "3 years       482\n",
       "4 years       396\n",
       "1 year        391\n",
       "5 years       384\n",
       "6 years       264\n",
       "7 years       216\n",
       "8 years       158\n",
       "9 years       133\n",
       "Name: emp_length, dtype: int64"
      ]
     },
     "execution_count": 336,
     "metadata": {},
     "output_type": "execute_result"
    }
   ],
   "source": [
    "\n",
    "df0_cf['emp_length'].value_counts()\n",
    "\n"
   ]
  },
  {
   "cell_type": "markdown",
   "id": "5dc0f049",
   "metadata": {},
   "source": [
    "**emp_length= 1,2,3,4,5 and 10+ are focus areas. Especially 10+**"
   ]
  },
  {
   "cell_type": "code",
   "execution_count": 347,
   "id": "32b59877",
   "metadata": {},
   "outputs": [
    {
     "data": {
      "text/plain": [
       "25001 to 50000    2066\n",
       "50001 to 75000    1559\n",
       ">75000             617\n",
       "0 to 25000         486\n",
       "Name: annual_inc_bin, dtype: int64"
      ]
     },
     "execution_count": 347,
     "metadata": {},
     "output_type": "execute_result"
    }
   ],
   "source": [
    "\n",
    "#Plot a bar chart for annual_inc\n",
    "df0_cf['annual_inc_bin'].value_counts()\n",
    "\n",
    "# Not very insighful as even 486 is about 10% of bad loans"
   ]
  },
  {
   "cell_type": "code",
   "execution_count": 338,
   "id": "0ed36259",
   "metadata": {},
   "outputs": [
    {
     "data": {
      "text/plain": [
       "12001 to 23000    1245\n",
       "0 to 5000         1226\n",
       "8001 to 12000      985\n",
       "5001 to 8000       871\n",
       ">23000             401\n",
       "Name: loan_amnt_bin, dtype: int64"
      ]
     },
     "execution_count": 338,
     "metadata": {},
     "output_type": "execute_result"
    }
   ],
   "source": [
    "\n",
    "#Plot a bar chart for loan_amnt_bin\n",
    "df0_cf['loan_amnt_bin'].value_counts()\n",
    "\n"
   ]
  },
  {
   "cell_type": "markdown",
   "id": "89f4f317",
   "metadata": {},
   "source": [
    "**Not very insightful as even 401 is about 8.5% and for the other bins the spread is similar**"
   ]
  },
  {
   "cell_type": "code",
   "execution_count": 339,
   "id": "a6d405bb",
   "metadata": {},
   "outputs": [
    {
     "name": "stdout",
     "output_type": "stream",
     "text": [
      "0.8585914697282653\n"
     ]
    }
   ],
   "source": [
    "\n",
    "pub_corr = df0_cf['pub_rec'].corr(df0_cf['pub_rec_bankruptcies'])\n",
    "print(pub_corr)\n",
    "# Seems strongly correlated. Will use  'pub_rec_bankruptcies'"
   ]
  },
  {
   "cell_type": "code",
   "execution_count": 340,
   "id": "23328d10",
   "metadata": {},
   "outputs": [
    {
     "data": {
      "text/plain": [
       ">18.68            1336\n",
       "13.52 to 18.68    1232\n",
       "8.23 to 13.51     1135\n",
       "0 to 8.22         1025\n",
       "Name: dti_bin, dtype: int64"
      ]
     },
     "execution_count": 340,
     "metadata": {},
     "output_type": "execute_result"
    }
   ],
   "source": [
    "\n",
    "#Plot a bar chart for dti_bin\n",
    "df0_cf['dti_bin'].value_counts()\n",
    "\n",
    "#Not very insightful"
   ]
  },
  {
   "cell_type": "code",
   "execution_count": 341,
   "id": "1ad01e15",
   "metadata": {},
   "outputs": [
    {
     "name": "stdout",
     "output_type": "stream",
     "text": [
      "0.8585914697282653\n"
     ]
    }
   ],
   "source": [
    "\n",
    "pub_corr = df0_cf['pub_rec'].corr(df0_cf['pub_rec_bankruptcies'])\n",
    "print(pub_corr)\n",
    "# Seems strongly correlated. Will use  'pub_rec_bankruptcies'"
   ]
  },
  {
   "cell_type": "code",
   "execution_count": 342,
   "id": "574aba0f",
   "metadata": {},
   "outputs": [
    {
     "data": {
      "image/png": "[encoded data removed]",
      "text/plain": [
       "<Figure size 640x480 with 1 Axes>"
      ]
     },
     "metadata": {},
     "output_type": "display_data"
    }
   ],
   "source": [
    "\n",
    "\n",
    "#Plot a bar chart for pub_rec_bankruptcies\n",
    "df0_cf['pub_rec_bankruptcies'].value_counts().plot.bar()\n",
    "plt.show()"
   ]
  },
  {
   "cell_type": "code",
   "execution_count": 343,
   "id": "d3225c6b",
   "metadata": {},
   "outputs": [
    {
     "data": {
      "text/plain": [
       "0.0    4316\n",
       "1.0     319\n",
       "2.0       2\n",
       "Name: pub_rec_bankruptcies, dtype: int64"
      ]
     },
     "execution_count": 343,
     "metadata": {},
     "output_type": "execute_result"
    }
   ],
   "source": [
    "#Plot a bar chart for loan_amnt_bin\n",
    "df0_cf['pub_rec_bankruptcies'].value_counts()\n",
    "\n",
    "#Not very insightful"
   ]
  },
  {
   "cell_type": "code",
   "execution_count": 344,
   "id": "4bf35587",
   "metadata": {},
   "outputs": [
    {
     "data": {
      "image/png": "[encoded data removed]",
      "text/plain": [
       "<Figure size 640x480 with 1 Axes>"
      ]
     },
     "metadata": {},
     "output_type": "display_data"
    }
   ],
   "source": [
    "\n",
    "#Plot a bar chart for open_acc\n",
    "df0_cf['open_acc'].value_counts().plot.bar()\n",
    "plt.show()"
   ]
  },
  {
   "cell_type": "code",
   "execution_count": 345,
   "id": "c328ebda",
   "metadata": {},
   "outputs": [
    {
     "data": {
      "text/plain": [
       "7     505\n",
       "6     500\n",
       "8     487\n",
       "9     441\n",
       "5     397\n",
       "10    387\n",
       "4     340\n",
       "11    311\n",
       "3     248\n",
       "12    233\n",
       "13    209\n",
       "14    172\n",
       "15    125\n",
       "2     120\n",
       "16     73\n",
       "17     67\n",
       "18     47\n",
       "19     36\n",
       "20     30\n",
       "Name: open_acc, dtype: int64"
      ]
     },
     "execution_count": 345,
     "metadata": {},
     "output_type": "execute_result"
    }
   ],
   "source": [
    "#Plot a bar chart for open_acc\n",
    "df0_cf['open_acc'].value_counts()\n"
   ]
  },
  {
   "cell_type": "markdown",
   "id": "0a165f90",
   "metadata": {},
   "source": [
    "**Important - open_acc 4 to 11**"
   ]
  },
  {
   "cell_type": "code",
   "execution_count": 346,
   "id": "f3311cad",
   "metadata": {
    "scrolled": true
   },
   "outputs": [
    {
     "data": {
      "text/plain": [
       "CA    931\n",
       "FL    436\n",
       "NY    411\n",
       "TX    251\n",
       "NJ    238\n",
       "GA    178\n",
       "IL    166\n",
       "PA    156\n",
       "VA    147\n",
       "OH    138\n",
       "MA    136\n",
       "MD    125\n",
       "MO    107\n",
       "WA    104\n",
       "AZ    103\n",
       "NC    101\n",
       "NV     87\n",
       "MI     85\n",
       "CO     83\n",
       "CT     80\n",
       "MN     69\n",
       "OR     63\n",
       "SC     54\n",
       "WI     49\n",
       "AL     48\n",
       "LA     44\n",
       "KY     41\n",
       "OK     38\n",
       "UT     32\n",
       "NM     28\n",
       "KS     26\n",
       "HI     24\n",
       "AR     21\n",
       "RI     20\n",
       "NH     19\n",
       "WV     19\n",
       "DC     12\n",
       "AK     12\n",
       "DE     11\n",
       "SD     10\n",
       "MT      9\n",
       "VT      5\n",
       "WY      4\n",
       "NE      3\n",
       "MS      2\n",
       "TN      1\n",
       "ID      1\n",
       "Name: addr_state, dtype: int64"
      ]
     },
     "execution_count": 346,
     "metadata": {},
     "output_type": "execute_result"
    }
   ],
   "source": [
    "#Plot a bar chart for Grade\n",
    "df0_cf['addr_state'].value_counts()"
   ]
  },
  {
   "cell_type": "markdown",
   "id": "6bf14d3b",
   "metadata": {},
   "source": [
    "**Important - addr_state = CA**"
   ]
  },
  {
   "cell_type": "markdown",
   "id": "a3128e65",
   "metadata": {},
   "source": [
    "## Analysis Outcome\n",
    "\n",
    "Following observations are made regarding reducing bad loans\n",
    "- Graded B, C and D are more likely to default\n",
    "- People who own home don't tend to default as mush as others do. But others should be analyzed\n",
    "- Loans taken for 'debt_consolidation', 'other', 'credit_card' and 'small_business' are more likely to default \n",
    "- People who have been working for about 5 years or more than 10 years tend to default more on loan. Especially 10+\n",
    "- People who have 4 to 11 credit lines are more liekly to default\n",
    "- People living in state_code CA are more likely to default"
   ]
  }
 ],
 "metadata": {
  "kernelspec": {
   "display_name": "Python 3 (ipykernel)",
   "language": "python",
   "name": "python3"
  },
  "language_info": {
   "codemirror_mode": {
    "name": "ipython",
    "version": 3
   },
   "file_extension": ".py",
   "mimetype": "text/x-python",
   "name": "python",
   "nbconvert_exporter": "python",
   "pygments_lexer": "ipython3",
   "version": "3.10.9"
  }
 },
 "nbformat": 4,
 "nbformat_minor": 5
}
